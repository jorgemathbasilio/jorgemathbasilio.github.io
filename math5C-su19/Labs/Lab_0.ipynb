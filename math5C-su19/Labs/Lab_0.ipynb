{
 "cells": [
  {
   "cell_type": "markdown",
   "metadata": {
    "collapsed": false
   },
   "source": [
    "# Calculus II - Spring 2019\n",
    "## Instructor: *Dr. Basilio*\n",
    "# Lab 0\n",
    "\n",
    "## Introduction to Sage\n",
    "\n",
    "<span style=\"font-size:18pt; color:red\">\n",
    "Due: Tuesday, April 9 by 11:59pm via Canvas\n",
    "</span>\n",
    "\n",
    "## Objectives\n",
    "\n",
    "* Learn what `SageMath` is and why you are asked to learn it\n",
    "* Become familiar with performing basic arithmetic calculations with `SageMath`\n",
    "* Learn how to calculate: limits, derivatives, integrals with `SageMath`\n",
    "* Learn how to make a PDF of your work to save and submit\n",
    "* Bonus (optional): Python\n",
    "* Bonus (optional): Markdown\n",
    "\n",
    "# 0. Introduction\n",
    "\n",
    "## Why use SageMath?\n",
    "\n",
    "- It's free!\n",
    "- Using it on web is free (hassle-free, no messy downloading needed)\n",
    "- Dowloading it is free (if you want to use it without internet)\n",
    "- It's open source!\n",
    "- No hidden algorithms (you can look at source code if you wish--and look \"under the hood\" so to speak)\n",
    "- It will prepare you for the future!\n",
    "    - You will likely need to learn some basic programming no matter what you study in college\n",
    "    - In Pyschology, for example, it's common to learn Python (and the R package) when learning statistics\n",
    "\n",
    "# 1. Some reading assignments:\n",
    "\n",
    "## - Read: [Why use SageMath?](https://github.com/sagemathinc/cocalc/wiki/SageInCalculus)\n",
    "\n",
    "> *An excerpt:*\n",
    "> > #### Why not just use graphing calculators?\n",
    "> > Back in their day, graphing calculators were rather popular. I used one in high school in the 1990s.\n",
    "> > - Let's say you're working with a large data set. Using a system like Sage, a professor can upload data into a project, and distribute it to all of his students with a click. With a graphing calculator, the data would have to be entered by each student, by hand.\n",
    "> > - Students can take the images and outputs of their computations in Sage and easily add them to any document for their classes, or undergraduate research papers suitable for publication. A picture on a graphing calculator is idle and immovable.\n",
    "> > - The appearance of graphs and 3D plots on a computer is vastly more realistic and comprehensible than the display of a graphing calculator.\n",
    "> > - The \"online help\" systems available (such as web-pages) such as Sage's wiki can be a tremendous boon to the student who is new to Sage. A graphing calculator just has a manual.\n",
    "> > - Many faculty working with Sage have made online videos, to help new students learn Sage.\n",
    "> > - If a student learns Sage, then the student learns Python \"along the way.\" Python is an extremely popular computer programming language, used in industry. (Ranked #3 in this article published in IEEE Spectrum.)\n",
    "\n",
    "## - Read: [Getting Started with SageMath](https://mosullivan.sdsu.edu/sagetutorial/about.html#getting-started)\n",
    "\n",
    "> - Read: **About Sage**\n",
    "> - Read: **Sage as a Calculator**\n",
    "> - Read: Section: Arithmetic and Functions\n",
    ">      1. Basic Arithmetic\n",
    ">      2. Integer Division and Factoring\n",
    ">      3. Standard Functions and Constants\n",
    "\n",
    "## - Reference: [Sage for Undergraduates](http://www.gregorybard.com/Sage.html)\n",
    "\n",
    "> - Reference: this site has an entire book you can download for more information\n",
    "\n",
    "# 2. Getting Started\n",
    "\n",
    "1. Make an account at the [CoCalc website](https://cocalc.com/) page so you can **login** to the free Sage server. No nosy questions, just make up a username and set a password. Just be sure to use a modern web browser (Google Chrome, Mozilla Firefox, etc).\n",
    "\n",
    "2. Create a new **Jupyter Notebook** and begin experimenting, OR\n",
    "Upload worksheets using the \"Upload\" link in the upper-left corner, OR\n",
    "If you are making a worksheet to submit an assignment, give the worksheet a title like **\"Math5B-Lab_0– YourLastName_YourFirstName-S19\"**.\n",
    "\n",
    "3. At the beginning of your worksheet include course info and lab info by using **comments** (see the template you can follow)\n",
    "\n",
    "    - By looking at this document, you are encouraged to copy and paste lines of code and modify them :-)\n",
    "\n",
    "4. Have some fun and make a few calculations\n",
    "\n",
    "\n",
    "# 3. Handy Short Cuts\n",
    "\n",
    "- `Command+Enter` (on Mac) or `Shift+Enter` (on PC) runs the code and gives you an output\n",
    "\n",
    "# 4. Quick Examples"
   ]
  },
  {
   "cell_type": "code",
   "execution_count": 0,
   "metadata": {
    "collapsed": false
   },
   "outputs": [
   ],
   "source": [
   ]
  },
  {
   "cell_type": "code",
   "execution_count": 1,
   "metadata": {
    "collapsed": false
   },
   "outputs": [
    {
     "data": {
      "text/plain": [
       "4"
      ]
     },
     "execution_count": 1,
     "metadata": {
     },
     "output_type": "execute_result"
    }
   ],
   "source": [
    "# comments are designated by a hashtag and are not read by the program\n",
    "\n",
    "# how to add; hit `Run` when you are ready to tell SageMath to compute\n",
    "2+2"
   ]
  },
  {
   "cell_type": "markdown",
   "metadata": {
    "collapsed": false
   },
   "source": [
    "Aside:\n",
    "\n",
    "this a Jupiter Notebook (Julia+Python+R)\n",
    "\n",
    "you can run many programming languages in these. Right now it is running `Sage` \n",
    "but if you click on `Kernel` above you can change the programing language if you want to."
   ]
  },
  {
   "cell_type": "code",
   "execution_count": 2,
   "metadata": {
    "collapsed": false
   },
   "outputs": [
    {
     "data": {
      "text/plain": [
       "4"
      ]
     },
     "execution_count": 2,
     "metadata": {
     },
     "output_type": "execute_result"
    }
   ],
   "source": [
    "# evaluating a function\n",
    "f(x) = x^2 # defines f; note the notation is similar to math notation!\n",
    "f(-2) "
   ]
  },
  {
   "cell_type": "code",
   "execution_count": 3,
   "metadata": {
    "collapsed": false
   },
   "outputs": [
    {
     "data": {
      "image/png": "[encoded data removed]"
     },
     "execution_count": 3,
     "metadata": {
     },
     "output_type": "execute_result"
    }
   ],
   "source": [
    "# graphing a function\n",
    "# this will graph f(x)=x^2 with x in (-2,2)\n",
    "plot(x^2,x,-2,2)"
   ]
  },
  {
   "cell_type": "code",
   "execution_count": 4,
   "metadata": {
    "collapsed": false
   },
   "outputs": [
    {
     "data": {
      "text/plain": [
       "x |--> 1/2*log(2)"
      ]
     },
     "execution_count": 4,
     "metadata": {
     },
     "output_type": "execute_result"
    }
   ],
   "source": [
    "# limits\n",
    "f(x)=x*e^(-x) # note: must use * to multiply\n",
    "limit(f,x=ln(2))"
   ]
  },
  {
   "cell_type": "code",
   "execution_count": 5,
   "metadata": {
    "collapsed": false
   },
   "outputs": [
    {
     "data": {
      "text/plain": [
       "x |--> Infinity"
      ]
     },
     "execution_count": 5,
     "metadata": {
     },
     "output_type": "execute_result"
    }
   ],
   "source": [
    "# limits\n",
    "f(x)=1/x\n",
    "limit(f,x=0)"
   ]
  },
  {
   "cell_type": "code",
   "execution_count": 6,
   "metadata": {
    "collapsed": false
   },
   "outputs": [
    {
     "data": {
      "text/plain": [
       "x |--> -Infinity"
      ]
     },
     "execution_count": 6,
     "metadata": {
     },
     "output_type": "execute_result"
    }
   ],
   "source": [
    "# notice we have to be careful!\n",
    "# the above example doesn't give us the expected 'DNE' (Recall: LHL is -Infinity whereas RHL is +Infinity)\n",
    "# to do a one sided limit:\n",
    "f(x)=1/x\n",
    "limit(f, x=0, dir=\"left\")"
   ]
  },
  {
   "cell_type": "code",
   "execution_count": 1,
   "metadata": {
    "collapsed": false
   },
   "outputs": [
    {
     "data": {
      "text/plain": [
       "x |--> 1/2*x^(5/2)*e^sqrt(x) + 3*x^2*e^sqrt(x)"
      ]
     },
     "execution_count": 1,
     "metadata": {
     },
     "output_type": "execute_result"
    }
   ],
   "source": [
    "# derivative\n",
    "f(x)=x^3*e^(sqrt(x))\n",
    "derivative(f,x) # 'd(f,x)' is basically 'df/dx'"
   ]
  },
  {
   "cell_type": "code",
   "execution_count": 15,
   "metadata": {
    "collapsed": false
   },
   "outputs": [
    {
     "data": {
      "text/html": [
       "<html><script type=\"math/tex; mode=display\">\\newcommand{\\Bold}[1]{\\mathbf{#1}}x \\ {\\mapsto}\\ \\frac{1}{2} \\, x^{\\frac{5}{2}} e^{\\sqrt{x}} + 3 \\, x^{2} e^{\\sqrt{x}}</script></html>"
      ]
     },
     "execution_count": 15,
     "metadata": {
     },
     "output_type": "execute_result"
    }
   ],
   "source": [
    "# notice output is not that nice looking\n",
    "f(x)=x^3*e^(sqrt(x))\n",
    "g=derivative(f,x) # save the derivative\n",
    "show(g)"
   ]
  },
  {
   "cell_type": "code",
   "execution_count": 17,
   "metadata": {
    "collapsed": false
   },
   "outputs": [
    {
     "data": {
      "text/html": [
       "<html><script type=\"math/tex; mode=display\">\\newcommand{\\Bold}[1]{\\mathbf{#1}}2 \\, x</script></html>"
      ]
     },
     "execution_count": 17,
     "metadata": {
     },
     "output_type": "execute_result"
    }
   ],
   "source": [
    "# in one line\n",
    "show(derivative(x^2,x))"
   ]
  },
  {
   "cell_type": "code",
   "execution_count": 18,
   "metadata": {
    "collapsed": false
   },
   "outputs": [
    {
     "data": {
      "text/plain": [
       "1/4*x^4"
      ]
     },
     "execution_count": 18,
     "metadata": {
     },
     "output_type": "execute_result"
    }
   ],
   "source": [
    "# anti-derivatives or indefinite integrals\n",
    "integral(x^3,x) # integral(f,x) the \",x\" is like our \"dx\""
   ]
  },
  {
   "cell_type": "code",
   "execution_count": 19,
   "metadata": {
    "collapsed": false
   },
   "outputs": [
    {
     "data": {
      "text/plain": [
       "0"
      ]
     },
     "execution_count": 19,
     "metadata": {
     },
     "output_type": "execute_result"
    }
   ],
   "source": [
    "# definite integral \n",
    "integral(x^3,x,-1,1)"
   ]
  },
  {
   "cell_type": "code",
   "execution_count": 20,
   "metadata": {
    "collapsed": false
   },
   "outputs": [
    {
     "data": {
      "text/html": [
       "<html><script type=\"math/tex; mode=display\">\\newcommand{\\Bold}[1]{\\mathbf{#1}}{\\left(x^{4} - 4 \\, x^{3} + 12 \\, x^{2} - 24 \\, x + 24\\right)} e^{x}</script></html>"
      ]
     },
     "execution_count": 20,
     "metadata": {
     },
     "output_type": "execute_result"
    },
    {
     "data": {
      "text/plain": [
       "(x^4 - 4*x^3 + 12*x^2 - 24*x + 24)*e^x"
      ]
     },
     "execution_count": 20,
     "metadata": {
     },
     "output_type": "execute_result"
    }
   ],
   "source": [
    "# a hard integral\n",
    "show(integrate(x^4*exp(x),x))\n",
    "integrate(x^4*exp(x),x)"
   ]
  },
  {
   "cell_type": "code",
   "execution_count": 7,
   "metadata": {
    "collapsed": false
   },
   "outputs": [
    {
     "data": {
      "image/png": "[encoded data removed]"
     },
     "execution_count": 7,
     "metadata": {
     },
     "output_type": "execute_result"
    }
   ],
   "source": [
    "# variables have to be declared (x is predefined for convenience)\n",
    "var('t')\n",
    "show(plot(sin(t),(t,-1,4*pi)), axes_labels = ['t','P']) # bit of extra code to label the axes"
   ]
  },
  {
   "cell_type": "markdown",
   "metadata": {
    "collapsed": false
   },
   "source": [
    "# 5. Assignment\n",
    "\n",
    "1. Evaluate: $\\cos(\\pi/8)$, $e^8$, $\\sqrt{8}$, $\\ln(8)$ \n",
    "\n",
    "2. Now, have Sage compute numerical approximations for the expression in \\#1. *(Consult the reading from above \"Getting Started with Sage\")*\n",
    "\n",
    "3. Compute $e$ to one hundred decimal places.\n",
    "\n",
    "4. Let $f(x)=x^3+7^x-\\ln(e^{x^2}\\cdot \\sqrt{x})$.\n",
    "\n",
    "    a. Compute: $\\lim_{x \\to 1} f(x)$.\n",
    "    \n",
    "    b. Compute: $f'(x)$.\n",
    "    \n",
    "    c. Compute: $\\int f(x) dx$.\n",
    "    \n",
    "    d. Verify the Fundamental Theorem of Calculus by defining $F(x)=\\int f(x)dx$ and checking that $F'(x)=f(x)$.\n",
    "    \n",
    "    e. Compute: $\\int_2^8 f(x) dx$.\n",
    "    \n",
    "    f. Plot $f$ for $x \\in (2,8)$.\n",
    "    \n",
    "    g. Make your plot prettier by labeling the $x$ and $f(x)$ axes appropriately.\n",
    "\n",
    "5. Submit a pdf of your lab via Canvas.\n",
    "\n",
    "**Note:** Use comments to indicate which problem you are working on (see template)"
   ]
  },
  {
   "cell_type": "markdown",
   "metadata": {
    "collapsed": false
   },
   "source": [
    "# 6. How to create a PDF\n",
    "\n",
    "When you have completed the assignment, download the worksheet to a PDF file and submit it via Canvas. To accomplish this, select `FILE` then under `Download as...` select `HTML (.html)`. A pop-up will give you a webpage version of your worksheet. Click and open this in another tab on your browser. Then you can `print` and save as a `PDF` as usual. As mentioned previously, file the name **\"Math5B-Lab_0– YourLastName_YourFirstName-S19\"**. \n",
    "\n",
    "*Please note: **DO NOT USE** `PDF via LaTeX (.pdf)` when to convert to a PDF. You lose some of the formatting of the Markdown cells and it doesn't look as nice (IMO).* \n",
    "\n",
    "*Another note: Do not use: `Ctrl+P` to try to print.*"
   ]
  },
  {
   "cell_type": "markdown",
   "metadata": {
    "collapsed": false
   },
   "source": [
    "# 7. Bonus Section (Optional): Python\n",
    "\n",
    "`SageMath` is built using the `Python` programming language.\n",
    "In fact, you can type `Python` code directly on Sage Worksheets without any special instructions.\n",
    "\n",
    "Below, I'll give a few simple examples for those of you who are  curious ;-)"
   ]
  },
  {
   "cell_type": "code",
   "execution_count": 8,
   "metadata": {
    "collapsed": false
   },
   "outputs": [
    {
     "name": "stdout",
     "output_type": "stream",
     "text": [
      "Hello World!\n"
     ]
    }
   ],
   "source": [
    "# example of python code\n",
    "print(\"Hello World!\")"
   ]
  },
  {
   "cell_type": "code",
   "execution_count": 9,
   "metadata": {
    "collapsed": false
   },
   "outputs": [
    {
     "data": {
      "text/plain": [
       "0.100000000000000"
      ]
     },
     "execution_count": 9,
     "metadata": {
     },
     "output_type": "execute_result"
    }
   ],
   "source": [
    "# example of python code\n",
    "# defining a more complicated function\n",
    "def f(x):\n",
    "    if -1 <= x <=0:\n",
    "        return -x\n",
    "    elif 0 < x < 0.5:\n",
    "        return x\n",
    "    else:\n",
    "        return 0.5\n",
    "f(-0.1)"
   ]
  },
  {
   "cell_type": "code",
   "execution_count": 13,
   "metadata": {
    "collapsed": false
   },
   "outputs": [
    {
     "data": {
      "text/plain": [
       "0"
      ]
     },
     "execution_count": 13,
     "metadata": {
     },
     "output_type": "execute_result"
    }
   ],
   "source": [
    "f(0)"
   ]
  },
  {
   "cell_type": "code",
   "execution_count": 15,
   "metadata": {
    "collapsed": false
   },
   "outputs": [
    {
     "data": {
      "text/plain": [
       "0.500000000000000"
      ]
     },
     "execution_count": 15,
     "metadata": {
     },
     "output_type": "execute_result"
    }
   ],
   "source": [
    "f(0.6)"
   ]
  },
  {
   "cell_type": "code",
   "execution_count": 11,
   "metadata": {
    "collapsed": false
   },
   "outputs": [
    {
     "data": {
      "image/png": "[encoded data removed]"
     },
     "execution_count": 11,
     "metadata": {
     },
     "output_type": "execute_result"
    }
   ],
   "source": [
    "#mix and match; use sage to plot the function f defined with python\n",
    "plot(f)"
   ]
  },
  {
   "cell_type": "markdown",
   "metadata": {
    "collapsed": false
   },
   "source": [
    "# 8. Bonus Section (Optional...for now): Aside on Markdown\n",
    "\n",
    "Notice that you can see the text of what I'm writing twice. The first begins with `%md` and it is telling the worksheet that I'm running `markdown` programming language and it will interpret it correctly. Markdown is a super easy language that you can learn in 5 minutes. It's only goal is for writing. So you actually can't progam (okay, I fibbed a bit since you can use html and latex). It makes writing easy.\n",
    "\n",
    "# Makes a header for a section big\n",
    "\n",
    "This is a sample section\n",
    "\n",
    "## Makes a header for a subsection slightly less big\n",
    "\n",
    "This is a sample sub-section\n",
    "\n",
    "Can make lists:\n",
    "\n",
    "* Item 1\n",
    "* Item 2\n",
    "\n",
    "In later labs where you'll write solutions in words, you'll need to know this. "
   ]
  },
  {
   "cell_type": "code",
   "execution_count": 0,
   "metadata": {
    "collapsed": false
   },
   "outputs": [
   ],
   "source": [
   ]
  },
  {
   "cell_type": "code",
   "execution_count": 0,
   "metadata": {
    "collapsed": false
   },
   "outputs": [
   ],
   "source": [
   ]
  },
  {
   "cell_type": "code",
   "execution_count": 0,
   "metadata": {
    "collapsed": false
   },
   "outputs": [
   ],
   "source": [
   ]
  },
  {
   "cell_type": "code",
   "execution_count": 0,
   "metadata": {
    "collapsed": false
   },
   "outputs": [
   ],
   "source": [
   ]
  }
 ],
 "metadata": {
  "kernelspec": {
   "display_name": "SageMath (stable)",
   "language": "sagemath",
   "metadata": {
    "cocalc": {
     "description": "Open-source mathematical software system",
     "priority": 10,
     "url": "https://www.sagemath.org/"
    }
   },
   "name": "sagemath"
  },
  "language_info": {
   "codemirror_mode": {
    "name": "ipython",
    "version": 2
   },
   "file_extension": ".py",
   "mimetype": "text/x-python",
   "name": "python",
   "nbconvert_exporter": "python",
   "pygments_lexer": "ipython2",
   "version": "2.7.15"
  }
 },
 "nbformat": 4,
 "nbformat_minor": 0
}